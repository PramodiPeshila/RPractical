{
 "cells": [
  {
   "cell_type": "code",
   "execution_count": null,
   "id": "f6e107c9-e4d2-4ba9-b7c7-000316b79d9f",
   "metadata": {},
   "outputs": [],
   "source": []
  }
 ],
 "metadata": {
  "kernelspec": {
   "display_name": "",
   "name": ""
  },
  "language_info": {
   "name": ""
  }
 },
 "nbformat": 4,
 "nbformat_minor": 5
}
