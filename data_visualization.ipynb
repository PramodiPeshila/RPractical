{
 "cells": [
  {
   "cell_type": "code",
   "execution_count": null,
   "id": "e341a378-c052-4a28-9151-2667a6e9bb8d",
   "metadata": {
    "jupyter": {
     "source_hidden": true
    }
   },
   "outputs": [
    {
     "name": "stderr",
     "output_type": "stream",
     "text": [
      "Installing package into 'C:/Users/Pramodi/AppData/Local/R/win-library/4.4'\n",
      "(as 'lib' is unspecified)\n",
      "\n",
      "also installing the dependencies 'colorspace', 'farver', 'labeling', 'munsell', 'R6', 'RColorBrewer', 'viridisLite', 'fansi', 'magrittr', 'pkgconfig', 'gtable', 'isoband', 'scales', 'tibble'\n",
      "\n",
      "\n"
     ]
    }
   ],
   "source": [
    "install.packages(\"ggplot2\")"
   ]
  },
  {
   "cell_type": "code",
   "execution_count": null,
   "id": "f2dea030-69ca-44b3-a556-b43343fbfb64",
   "metadata": {},
   "outputs": [],
   "source": [
    "library(ggplot2)"
   ]
  },
  {
   "cell_type": "code",
   "execution_count": null,
   "id": "cd0d7815-528f-4be6-8c91-5db5487b18f3",
   "metadata": {},
   "outputs": [],
   "source": [
    "ggplot(mtcars, aes(x = wt, y = mpg)) + geom_point()\n"
   ]
  },
  {
   "cell_type": "code",
   "execution_count": null,
   "id": "7cde6368-7ecb-4edb-8cfb-841a45fd1de5",
   "metadata": {},
   "outputs": [],
   "source": []
  }
 ],
 "metadata": {
  "kernelspec": {
   "display_name": "R",
   "language": "R",
   "name": "ir"
  },
  "language_info": {
   "codemirror_mode": "r",
   "file_extension": ".r",
   "mimetype": "text/x-r-source",
   "name": "R",
   "pygments_lexer": "r",
   "version": "4.4.2"
  }
 },
 "nbformat": 4,
 "nbformat_minor": 5
}
